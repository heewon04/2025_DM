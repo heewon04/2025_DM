{
  "nbformat": 4,
  "nbformat_minor": 0,
  "metadata": {
    "colab": {
      "provenance": [],
      "authorship_tag": "ABX9TyPRPyHwaEvvhEMhYJDlMacc",
      "include_colab_link": true
    },
    "kernelspec": {
      "name": "python3",
      "display_name": "Python 3"
    },
    "language_info": {
      "name": "python"
    }
  },
  "cells": [
    {
      "cell_type": "markdown",
      "metadata": {
        "id": "view-in-github",
        "colab_type": "text"
      },
      "source": [
        "<a href=\"https://colab.research.google.com/github/heewon04/2025_DM/blob/main/%EC%9D%B4%EC%82%B0%EC%88%98_4%EC%A3%BC%EC%B0%A8_%EA%B4%80%EA%B3%84.ipynb\" target=\"_parent\"><img src=\"https://colab.research.google.com/assets/colab-badge.svg\" alt=\"Open In Colab\"/></a>"
      ]
    },
    {
      "cell_type": "markdown",
      "source": [
        "1) 이항 관계 예제"
      ],
      "metadata": {
        "id": "6HJViDX7IUZP"
      }
    },
    {
      "cell_type": "code",
      "execution_count": 1,
      "metadata": {
        "colab": {
          "base_uri": "https://localhost:8080/"
        },
        "id": "orgJ3LzaHVda",
        "outputId": "edb002ca-2b4e-4b6b-d5c3-fd310f20e4d1"
      },
      "outputs": [
        {
          "output_type": "stream",
          "name": "stdout",
          "text": [
            "관계 R: {(2, 3), (3, 2), (1, 2), (3, 4)}\n"
          ]
        }
      ],
      "source": [
        "import numpy as np\n",
        "import networkx as nx\n",
        "import matplotlib.pyplot as plt\n",
        "\n",
        "A={1,2,3}\n",
        "B={2,3,4}\n",
        "# A에서 B로 가는 이항 관계 R\n",
        "R={(1,2),(2,3),(3,2),(3,4)}\n",
        "\n",
        "print(\"관계 R:\",R)\n",
        "\n"
      ]
    },
    {
      "cell_type": "markdown",
      "source": [
        "2) 관계 행렬 표현"
      ],
      "metadata": {
        "id": "WT0ifWv-IYm0"
      }
    },
    {
      "cell_type": "code",
      "source": [
        "A_list=sorted(A)\n",
        "B_list=sorted(B)\n",
        "\n",
        "relation_matrix=np.zeros((len(A_list), len(B_list)), dtype=int)\n",
        "\n",
        "for i, a in enumerate(A_list):\n",
        "  for j, b in enumerate(B_list):\n",
        "    if (a,b) in R:\n",
        "      relation_matrix[i,j]=1\n",
        "\n",
        "print(\"관계 행렬 (row: A, columns: B):\")\n",
        "print(relation_matrix)"
      ],
      "metadata": {
        "colab": {
          "base_uri": "https://localhost:8080/"
        },
        "id": "qdT1qJZZIbzN",
        "outputId": "11e5e2ac-ab9f-46ca-c834-04d9bc00fc3d"
      },
      "execution_count": 3,
      "outputs": [
        {
          "output_type": "stream",
          "name": "stdout",
          "text": [
            "관계 행렬 (row: A, columns: B):\n",
            "[[1 0 0]\n",
            " [0 1 0]\n",
            " [1 0 1]]\n"
          ]
        }
      ]
    },
    {
      "cell_type": "markdown",
      "source": [
        "3) 합성 관계 예제"
      ],
      "metadata": {
        "id": "QZriZOySJUnu"
      }
    },
    {
      "cell_type": "code",
      "source": [
        "# R: A -> B\n",
        "# S: B -> C\n",
        "C={'x','y'}\n",
        "S={(2,'x'),(3,'y'),(4,'x')}\n",
        "\n",
        "# 합성 관계 RºS\n",
        "composed_relation=set()\n",
        "\n",
        "for (a,b1) in R:\n",
        "  for(b2,c) in S:\n",
        "    if b1==b2:\n",
        "      composed_relation.add((a,c))\n",
        "\n",
        "print(\"\\n합성 관계 RºS:\",composed_relation)"
      ],
      "metadata": {
        "colab": {
          "base_uri": "https://localhost:8080/"
        },
        "id": "GAeThV-xJYvD",
        "outputId": "f89a8aaa-86ed-46bb-cce5-2ae8f148d2f0"
      },
      "execution_count": 4,
      "outputs": [
        {
          "output_type": "stream",
          "name": "stdout",
          "text": [
            "\n",
            "합성 관계 RºS: {(3, 'x'), (1, 'x'), (2, 'y')}\n"
          ]
        }
      ]
    }
  ]
}